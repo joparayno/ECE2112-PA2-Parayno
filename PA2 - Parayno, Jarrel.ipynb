{
 "cells": [
  {
   "cell_type": "code",
   "execution_count": 1,
   "id": "b46ff53c",
   "metadata": {},
   "outputs": [
    {
     "name": "stdout",
     "output_type": "stream",
     "text": [
      "The random matrix of X:\n",
      "[[0.0447463  0.94699493 0.11917493 0.84459635 0.37373493]\n",
      " [0.62483735 0.64119075 0.58741274 0.16286531 0.91020188]\n",
      " [0.05806025 0.82536382 0.80343129 0.30683425 0.89575531]\n",
      " [0.01596399 0.31071749 0.45843822 0.83198516 0.26505529]\n",
      " [0.78393064 0.83561248 0.21007601 0.72101679 0.57947107]]\n",
      "\n",
      "Mean: 0.5262987018225408\n",
      "Standard Deviation: 0.3066908835856325\n",
      "\n",
      "The normalized matrix:\n"
     ]
    },
    {
     "data": {
      "text/plain": [
       "array([[-1.67130961, -0.76906097, -1.59688098, -0.87145956, -1.34232097],\n",
       "       [-1.09121855, -1.07486515, -1.12864316, -1.55319059, -0.80585403],\n",
       "       [-1.65799566, -0.89069208, -0.91262462, -1.40922166, -0.8203006 ],\n",
       "       [-1.70009192, -1.40533842, -1.25761768, -0.88407074, -1.45100061],\n",
       "       [-0.93212526, -0.88044343, -1.50597989, -0.99503911, -1.13658483]])"
      ]
     },
     "execution_count": 1,
     "metadata": {},
     "output_type": "execute_result"
    }
   ],
   "source": [
    "import numpy as np\n",
    "\n",
    "print(\"The random matrix of X:\")\n",
    "X = np.random.random((5,5)) #creates a 5 x 5 random matrix\n",
    "print(X)\n",
    "\n",
    "mean = np.mean(X) #mean of X\n",
    "print(\"\\nMean:\", mean)\n",
    "sd = np.std(X) #standard deviation of X\n",
    "print(\"Standard Deviation:\", sd)\n",
    "\n",
    "print(\"\\nThe normalized matrix:\")\n",
    "X_normalized = (X-mean/sd) #normalized matrix of X\n",
    "\n",
    "np.save(\"X_normalized.npy\", X_normalized)\n",
    "np.load(\"X_normalized.npy\")"
   ]
  },
  {
   "cell_type": "code",
   "execution_count": 2,
   "id": "ad6f8395",
   "metadata": {},
   "outputs": [
    {
     "name": "stdout",
     "output_type": "stream",
     "text": [
      "The perfect squares of the first 100 positive integers:\n",
      "[[  1   2   3   4   5   6   7   8   9  10]\n",
      " [ 11  12  13  14  15  16  17  18  19  20]\n",
      " [ 21  22  23  24  25  26  27  28  29  30]\n",
      " [ 31  32  33  34  35  36  37  38  39  40]\n",
      " [ 41  42  43  44  45  46  47  48  49  50]\n",
      " [ 51  52  53  54  55  56  57  58  59  60]\n",
      " [ 61  62  63  64  65  66  67  68  69  70]\n",
      " [ 71  72  73  74  75  76  77  78  79  80]\n",
      " [ 81  82  83  84  85  86  87  88  89  90]\n",
      " [ 91  92  93  94  95  96  97  98  99 100]]\n",
      "\n",
      "The numbers divisible by 3:\n"
     ]
    },
    {
     "data": {
      "text/plain": [
       "array([   9,   36,   81,  144,  225,  324,  441,  576,  729,  900, 1089,\n",
       "       1296, 1521, 1764, 2025, 2304, 2601, 2916, 3249, 3600, 3969, 4356,\n",
       "       4761, 5184, 5625, 6084, 6561, 7056, 7569, 8100, 8649, 9216, 9801])"
      ]
     },
     "execution_count": 2,
     "metadata": {},
     "output_type": "execute_result"
    }
   ],
   "source": [
    "import numpy as np\n",
    "\n",
    "array = np.arange(1,101).reshape(10,10) #matrix from 1-100\n",
    "print(\"The perfect squares of the first 100 positive integers:\")\n",
    "x = pow(array,2) #square of the matrix\n",
    "print(array)\n",
    "\n",
    "div_3 = x[x%3==0] #list of numbers divisible by 3\n",
    "print(\"\\nThe numbers divisible by 3:\")\n",
    "\n",
    "np.save(\"div_by_3.npy\", div_3)\n",
    "np.load(\"div_by_3.npy\")"
   ]
  },
  {
   "cell_type": "code",
   "execution_count": null,
   "id": "96fba40c",
   "metadata": {},
   "outputs": [],
   "source": []
  }
 ],
 "metadata": {
  "kernelspec": {
   "display_name": "Python 3 (ipykernel)",
   "language": "python",
   "name": "python3"
  },
  "language_info": {
   "codemirror_mode": {
    "name": "ipython",
    "version": 3
   },
   "file_extension": ".py",
   "mimetype": "text/x-python",
   "name": "python",
   "nbconvert_exporter": "python",
   "pygments_lexer": "ipython3",
   "version": "3.11.4"
  }
 },
 "nbformat": 4,
 "nbformat_minor": 5
}
