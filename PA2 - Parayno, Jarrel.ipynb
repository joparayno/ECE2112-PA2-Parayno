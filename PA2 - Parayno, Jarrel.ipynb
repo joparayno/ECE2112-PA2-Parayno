{
 "cells": [
  {
   "cell_type": "code",
   "execution_count": 1,
   "id": "be17f76d",
   "metadata": {},
   "outputs": [
    {
     "name": "stdout",
     "output_type": "stream",
     "text": [
      "The random matrix of X:\n",
      "[[0.45447991 0.11945814 0.33406135 0.46875051 0.04723449]\n",
      " [0.88050353 0.01598218 0.61171956 0.26080134 0.68197946]\n",
      " [0.25361632 0.54600404 0.89082222 0.02418421 0.88316755]\n",
      " [0.15163701 0.33113104 0.45921602 0.10609079 0.22672506]\n",
      " [0.92638368 0.16239325 0.09186086 0.50144122 0.95941181]]\n",
      "\n",
      "Mean: 0.41556222229458173\n",
      "Standard Deviation: 0.3051295783163047\n",
      "\n",
      "The normalized matrix:\n"
     ]
    },
    {
     "data": {
      "text/plain": [
       "array([[-0.90744058, -1.24246234, -1.02785913, -0.89316997, -1.31468599],\n",
       "       [-0.48141695, -1.3459383 , -0.75020093, -1.10111914, -0.67994102],\n",
       "       [-1.10830416, -0.81591645, -0.47109826, -1.33773627, -0.47875294],\n",
       "       [-1.21028347, -1.03078944, -0.90270446, -1.25582969, -1.13519542],\n",
       "       [-0.43553681, -1.19952723, -1.27005962, -0.86047926, -0.40250867]])"
      ]
     },
     "execution_count": 1,
     "metadata": {},
     "output_type": "execute_result"
    }
   ],
   "source": [
    "import numpy as np\n",
    "\n",
    "print(\"The random matrix of X:\")\n",
    "X = np.random.random((5,5)) #creates a random matrix\n",
    "print(X)\n",
    "\n",
    "mean = np.mean(X) #mean of X\n",
    "print(\"\\nMean:\", mean)\n",
    "sd = np.std(X) #standard deviation of X\n",
    "print(\"Standard Deviation:\", sd)\n",
    "\n",
    "print(\"\\nThe normalized matrix:\")\n",
    "X_normalized = (X-mean/sd) #normalized matrix of X\n",
    "\n",
    "np.save(\"X_normalized.npy\", X_normalized)\n",
    "np.load(\"X_normalized.npy\")"
   ]
  },
  {
   "cell_type": "code",
   "execution_count": 2,
   "id": "63442328",
   "metadata": {},
   "outputs": [
    {
     "name": "stdout",
     "output_type": "stream",
     "text": [
      "The perfect squares of the first 100 positive integers:\n",
      "[[  1   2   3   4   5   6   7   8   9  10]\n",
      " [ 11  12  13  14  15  16  17  18  19  20]\n",
      " [ 21  22  23  24  25  26  27  28  29  30]\n",
      " [ 31  32  33  34  35  36  37  38  39  40]\n",
      " [ 41  42  43  44  45  46  47  48  49  50]\n",
      " [ 51  52  53  54  55  56  57  58  59  60]\n",
      " [ 61  62  63  64  65  66  67  68  69  70]\n",
      " [ 71  72  73  74  75  76  77  78  79  80]\n",
      " [ 81  82  83  84  85  86  87  88  89  90]\n",
      " [ 91  92  93  94  95  96  97  98  99 100]]\n",
      "\n",
      "The numbers divisible by 3:\n"
     ]
    },
    {
     "data": {
      "text/plain": [
       "array([   9,   36,   81,  144,  225,  324,  441,  576,  729,  900, 1089,\n",
       "       1296, 1521, 1764, 2025, 2304, 2601, 2916, 3249, 3600, 3969, 4356,\n",
       "       4761, 5184, 5625, 6084, 6561, 7056, 7569, 8100, 8649, 9216, 9801])"
      ]
     },
     "execution_count": 2,
     "metadata": {},
     "output_type": "execute_result"
    }
   ],
   "source": [
    "import numpy as np\n",
    "\n",
    "array = np.arange(1,101).reshape(10,10) #matrix from 1-100\n",
    "print(\"The perfect squares of the first 100 positive integers:\")\n",
    "x = pow(array,2) #square of the matrix\n",
    "print(array)\n",
    "\n",
    "div_3 = x[x%3==0] #list of numbers divisible by 3\n",
    "print(\"\\nThe numbers divisible by 3:\")\n",
    "\n",
    "np.save(\"div_by_3.npy\", div_3)\n",
    "np.load(\"div_by_3.npy\")"
   ]
  },
  {
   "cell_type": "code",
   "execution_count": null,
   "id": "2b532cb9",
   "metadata": {},
   "outputs": [],
   "source": []
  }
 ],
 "metadata": {
  "kernelspec": {
   "display_name": "Python 3 (ipykernel)",
   "language": "python",
   "name": "python3"
  },
  "language_info": {
   "codemirror_mode": {
    "name": "ipython",
    "version": 3
   },
   "file_extension": ".py",
   "mimetype": "text/x-python",
   "name": "python",
   "nbconvert_exporter": "python",
   "pygments_lexer": "ipython3",
   "version": "3.11.4"
  }
 },
 "nbformat": 4,
 "nbformat_minor": 5
}
